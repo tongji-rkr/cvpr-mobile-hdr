{
 "cells": [
  {
   "cell_type": "code",
   "execution_count": 34,
   "id": "5a902ad6-d76f-4cbd-b1d9-63129e22f719",
   "metadata": {},
   "outputs": [],
   "source": [
    "import os\n",
    "import numpy as np\n",
    "import cv2"
   ]
  },
  {
   "cell_type": "code",
   "execution_count": 65,
   "id": "39c55b57-5804-42ce-b5e8-4a9523aeaf82",
   "metadata": {},
   "outputs": [],
   "source": [
    "def rearrange_channels(data):\n",
    "    B, G1, G2, R = data[..., 0], data[..., 1], data[..., 2], data[..., 3]\n",
    "    return np.stack([B, G1, G2, R], axis=-1)"
   ]
  },
  {
   "cell_type": "code",
   "execution_count": 88,
   "id": "6dd78995-133e-4c9e-baf5-1f6341f289e6",
   "metadata": {
    "editable": true,
    "slideshow": {
     "slide_type": ""
    },
    "tags": []
   },
   "outputs": [],
   "source": [
    "def process_npz_files(input_dir, output_dir):\n",
    "    for root, _, files in os.walk(input_dir):\n",
    "        for file in files:\n",
    "            if file.endswith('.npz'):\n",
    "                relative_path = os.path.relpath(root, input_dir)\n",
    "                output_folder_path = os.path.join(output_dir, relative_path)\n",
    "                os.makedirs(output_folder_path, exist_ok=True)\n",
    "\n",
    "                npz_file = os.path.join(root, file)\n",
    "                npz_data = np.load(npz_file)\n",
    "\n",
    "                for key in ['sht', 'mid', 'lng', 'hdr']:\n",
    "                    if key in npz_data:\n",
    "                        data = npz_data[key][:, :, :4]  # Process only the original raw data\n",
    "                        int_data = (data * 65535).astype(np.uint16)  # Convert float data to 16-bit\n",
    "\n",
    "                        # Merge four channels into one following the Bayer pattern (top-left is B)\n",
    "                        merged_data = np.empty((int_data.shape[0]*2, int_data.shape[1]*2), dtype=np.uint16)\n",
    "                        merged_data[0::2, 0::2] = int_data[..., 0]  # B\n",
    "                        merged_data[0::2, 1::2] = int_data[..., 1]  # G1\n",
    "                        merged_data[1::2, 0::2] = int_data[..., 2]  # G2\n",
    "                        merged_data[1::2, 1::2] = int_data[..., 3]  # R\n",
    "\n",
    "                        demosaic_data = cv2.cvtColor(merged_data, cv2.COLOR_BayerBG2BGR) / 65535  # Demosaic and normalize\n",
    "                        output_file = os.path.join(output_folder_path, f\"{file[:-4]}_{key}.png\")\n",
    "                        cv2.imwrite(output_file, demosaic_data * 65535)\n"
   ]
  },
  {
   "cell_type": "code",
   "execution_count": 89,
   "id": "88f3b584-d220-490c-9a78-70ddb3db6627",
   "metadata": {
    "editable": true,
    "slideshow": {
     "slide_type": ""
    },
    "tags": []
   },
   "outputs": [],
   "source": [
    "input_data_dir = \"data/NPZ_data\"\n",
    "output_data_dir = \"data/PNG_data\""
   ]
  },
  {
   "cell_type": "code",
   "execution_count": null,
   "id": "300ca721-74f3-4f6a-a80b-84a1fdbd7cdf",
   "metadata": {
    "editable": true,
    "slideshow": {
     "slide_type": ""
    },
    "tags": []
   },
   "outputs": [],
   "source": [
    "process_npz_files(input_data_dir, output_data_dir)"
   ]
  },
  {
   "cell_type": "code",
   "execution_count": null,
   "id": "f0d61d53-7440-41d6-a081-ba1abce958eb",
   "metadata": {
    "editable": true,
    "slideshow": {
     "slide_type": ""
    },
    "tags": []
   },
   "outputs": [],
   "source": []
  }
 ],
 "metadata": {
  "kernelspec": {
   "display_name": "Python 3 (ipykernel)",
   "language": "python",
   "name": "python3"
  },
  "language_info": {
   "codemirror_mode": {
    "name": "ipython",
    "version": 3
   },
   "file_extension": ".py",
   "mimetype": "text/x-python",
   "name": "python",
   "nbconvert_exporter": "python",
   "pygments_lexer": "ipython3",
   "version": "3.11.3"
  }
 },
 "nbformat": 4,
 "nbformat_minor": 5
}
